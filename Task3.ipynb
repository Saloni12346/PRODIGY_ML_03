{
  "nbformat": 4,
  "nbformat_minor": 0,
  "metadata": {
    "colab": {
      "provenance": [],
      "authorship_tag": "ABX9TyOYw28AGWv/AM01ATTYoz0Z",
      "include_colab_link": true
    },
    "kernelspec": {
      "name": "python3",
      "display_name": "Python 3"
    },
    "language_info": {
      "name": "python"
    }
  },
  "cells": [
    {
      "cell_type": "markdown",
      "metadata": {
        "id": "view-in-github",
        "colab_type": "text"
      },
      "source": [
        "<a href=\"https://colab.research.google.com/github/Saloni12346/PRODIGY_ML_03/blob/main/Task3.ipynb\" target=\"_parent\"><img src=\"https://colab.research.google.com/assets/colab-badge.svg\" alt=\"Open In Colab\"/></a>"
      ]
    },
    {
      "cell_type": "code",
      "source": [
        "import os\n",
        "import zipfile\n",
        "import numpy as np\n",
        "import cv2\n",
        "from sklearn.model_selection import train_test_split\n",
        "from sklearn.svm import SVC\n",
        "from sklearn.metrics import accuracy_score, classification_report\n",
        "from tqdm import tqdm\n",
        "\n",
        "# Set paths to the dataset\n",
        "data_dir = \"/content/dogvscats.zip\"\n",
        "\n",
        "# Image parameters\n",
        "IMG_SIZE = 64  # Resize all images to 64x64\n",
        "\n",
        "# Function to load and preprocess data\n",
        "def load_data(data_dir):\n",
        "    images = []\n",
        "    labels = []\n",
        "\n",
        "    # Open the zip file\n",
        "    with zipfile.ZipFile(data_dir, 'r') as zip_ref:\n",
        "        # Iterate over files in the zip archive\n",
        "        for filename in tqdm(zip_ref.namelist()):\n",
        "            # Check if the file is an image (you might need to adjust this condition)\n",
        "            if filename.endswith(('.jpg', '.jpeg', '.png')):\n",
        "                label = 1 if \"dog\" in filename else 0  # Label: 1 for dog, 0 for cat\n",
        "\n",
        "                # Read the image from the zip archive\n",
        "                with zip_ref.open(filename) as img_file:\n",
        "                    img = cv2.imdecode(np.frombuffer(img_file.read(), np.uint8), cv2.IMREAD_COLOR)\n",
        "\n",
        "                # Preprocess the image\n",
        "                img = cv2.resize(img, (IMG_SIZE, IMG_SIZE))\n",
        "                img = cv2.cvtColor(img, cv2.COLOR_BGR2GRAY)  # Convert to grayscale\n",
        "                images.append(img.flatten())  # Flatten the image into a 1D vector\n",
        "                labels.append(label)\n",
        "\n",
        "\n",
        "    return np.array(images), np.array(labels)\n",
        "\n",
        "# Load dataset\n",
        "print(\"Loading data...\")\n",
        "X, y = load_data(data_dir)\n",
        "print(\"Data loaded.\")\n",
        "\n",
        "# Normalize pixel values\n",
        "X = X / 255.0\n",
        "\n",
        "# Split into training and testing sets\n",
        "X_train, X_test, y_train, y_test = train_test_split(X, y, test_size=0.2, random_state=42)\n",
        "\n",
        "# Train the SVM classifier\n",
        "print(\"Training the SVM model...\")\n",
        "svm = SVC(kernel='linear', C=1.0, random_state=42)\n",
        "svm.fit(X_train, y_train)\n",
        "print(\"Model training completed.\")\n",
        "\n",
        "# Evaluate the model\n",
        "print(\"Evaluating the model...\")\n",
        "y_pred = svm.predict(X_test)\n",
        "accuracy = accuracy_score(y_test, y_pred)\n",
        "print(f\"Accuracy: {accuracy * 100:.2f}%\")\n",
        "print(\"Classification Report:\")\n",
        "print(classification_report(y_test, y_pred, target_names=[\"Cat\", \"Dog\"]))\n",
        "\n",
        "# Save the model\n",
        "import joblib\n",
        "joblib.dump(svm, \"svm_dogs_vs_cats_model.pkl\")\n",
        "print(\"Model saved as svm_dogs_vs_cats_model.pkl.\")\n"
      ],
      "metadata": {
        "colab": {
          "base_uri": "https://localhost:8080/"
        },
        "id": "d9WLrwp2KB5T",
        "outputId": "0440a89a-41b2-433d-f5b8-68d8eb0a048d"
      },
      "execution_count": 5,
      "outputs": [
        {
          "output_type": "stream",
          "name": "stdout",
          "text": [
            "Loading data...\n"
          ]
        },
        {
          "output_type": "stream",
          "name": "stderr",
          "text": [
            "100%|██████████| 38/38 [00:00<00:00, 288.45it/s]"
          ]
        },
        {
          "output_type": "stream",
          "name": "stdout",
          "text": [
            "Data loaded.\n",
            "Training the SVM model...\n",
            "Model training completed.\n",
            "Evaluating the model...\n",
            "Accuracy: 50.00%\n",
            "Classification Report:\n",
            "              precision    recall  f1-score   support\n",
            "\n",
            "         Cat       0.57      0.80      0.67         5\n",
            "         Dog       0.00      0.00      0.00         3\n",
            "\n",
            "    accuracy                           0.50         8\n",
            "   macro avg       0.29      0.40      0.33         8\n",
            "weighted avg       0.36      0.50      0.42         8\n",
            "\n",
            "Model saved as svm_dogs_vs_cats_model.pkl.\n"
          ]
        },
        {
          "output_type": "stream",
          "name": "stderr",
          "text": [
            "\n"
          ]
        }
      ]
    }
  ]
}